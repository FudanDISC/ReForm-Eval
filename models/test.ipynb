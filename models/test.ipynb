{
 "cells": [
  {
   "cell_type": "code",
   "execution_count": 10,
   "metadata": {},
   "outputs": [],
   "source": [
    "def get_model(model_name, model_config=None):\n",
    "    \"\"\"\n",
    "    Return the wrapped model interface for evaluation\n",
    "    \n",
    "    Parameters:\n",
    "        model_name: the name of the model family\n",
    "        model_config: {\n",
    "                    \"model_name\": the sub-name of the model family\n",
    "                    \"model_type\": the type setup for \n",
    "                    }\n",
    "    Return:\n",
    "        model: the constructed model interface\n",
    "        processor: the conversation processor\n",
    "    Usage:\n",
    "        >>> from models import get_model\n",
    "        >>> model = get_model(\"blip2\", {\"model_name\": \"blip2_t5\", \"model_type\": \"pretrain_flant5xl\", \"half\": False, \"device\": \"cuda:1\"})\n",
    "    \"\"\"\n",
    "    if model_name == 'blip2':\n",
    "        from .interfaces.blip2 import get_blip2\n",
    "        return get_blip2(model_config)\n",
    "    elif model_name == 'llava':\n",
    "        from .interfaces.llava_interface import get_llava\n",
    "        return get_llava(model_config)\n",
    "    elif model_name == 'minigpt4':\n",
    "        from .interfaces.minigpt4_interface import get_minigpt4\n",
    "        return get_minigpt4(model_config)\n",
    "    elif model_name == 'mmgpt':\n",
    "        from .interfaces.mmgpt_interface import get_mmgpt\n",
    "        return get_mmgpt(model_config)\n",
    "    elif model_name == 'mplugowl':\n",
    "        from interfaces.mplug_owl_interface import get_mPLUG_Owl\n",
    "        return get_mPLUG_Owl(model_config)\n",
    "    else:\n",
    "        raise ValueError('the target model is not supported yet!')"
   ]
  },
  {
   "cell_type": "code",
   "execution_count": 11,
   "metadata": {},
   "outputs": [
    {
     "name": "stderr",
     "output_type": "stream",
     "text": [
      "/root/anaconda3/envs/mplug_owl/lib/python3.10/site-packages/tqdm/auto.py:21: TqdmWarning: IProgress not found. Please update jupyter and ipywidgets. See https://ipywidgets.readthedocs.io/en/stable/user_install.html\n",
      "  from .autonotebook import tqdm as notebook_tqdm\n"
     ]
    },
    {
     "name": "stdout",
     "output_type": "stream",
     "text": [
      "install flash-attn first.\n"
     ]
    },
    {
     "ename": "ModuleNotFoundError",
     "evalue": "No module named 'utils'",
     "output_type": "error",
     "traceback": [
      "\u001b[0;31m---------------------------------------------------------------------------\u001b[0m",
      "\u001b[0;31mModuleNotFoundError\u001b[0m                       Traceback (most recent call last)",
      "Cell \u001b[0;32mIn[11], line 1\u001b[0m\n\u001b[0;32m----> 1\u001b[0m get_model(\u001b[39m'\u001b[39;49m\u001b[39mmplugowl\u001b[39;49m\u001b[39m'\u001b[39;49m)\n",
      "Cell \u001b[0;32mIn[10], line 31\u001b[0m, in \u001b[0;36mget_model\u001b[0;34m(model_name, model_config)\u001b[0m\n\u001b[1;32m     29\u001b[0m     \u001b[39mreturn\u001b[39;00m get_mmgpt(model_config)\n\u001b[1;32m     30\u001b[0m \u001b[39melif\u001b[39;00m model_name \u001b[39m==\u001b[39m \u001b[39m'\u001b[39m\u001b[39mmplugowl\u001b[39m\u001b[39m'\u001b[39m:\n\u001b[0;32m---> 31\u001b[0m     \u001b[39mfrom\u001b[39;00m \u001b[39minterfaces\u001b[39;00m\u001b[39m.\u001b[39;00m\u001b[39mmplug_owl_interface\u001b[39;00m \u001b[39mimport\u001b[39;00m get_mPLUG_Owl\n\u001b[1;32m     32\u001b[0m     \u001b[39mreturn\u001b[39;00m get_mPLUG_Owl(model_config)\n\u001b[1;32m     33\u001b[0m \u001b[39melse\u001b[39;00m:\n",
      "File \u001b[0;32m/remote-home/share/zjli_share/LLM-V-Bench/models/interfaces/mplug_owl_interface.py:9\u001b[0m\n\u001b[1;32m      7\u001b[0m \u001b[39mfrom\u001b[39;00m \u001b[39mPIL\u001b[39;00m \u001b[39mimport\u001b[39;00m Image\n\u001b[1;32m      8\u001b[0m \u001b[39mimport\u001b[39;00m \u001b[39mtorch\u001b[39;00m\u001b[39m.\u001b[39;00m\u001b[39mnn\u001b[39;00m \u001b[39mas\u001b[39;00m \u001b[39mnn\u001b[39;00m\n\u001b[0;32m----> 9\u001b[0m \u001b[39mfrom\u001b[39;00m \u001b[39mutils\u001b[39;00m\u001b[39m.\u001b[39;00m\u001b[39mpreprocessors\u001b[39;00m \u001b[39mimport\u001b[39;00m ConvSingleChoiceProcessor\n\u001b[1;32m     10\u001b[0m \u001b[39mimport\u001b[39;00m \u001b[39mcontextlib\u001b[39;00m\n\u001b[1;32m     11\u001b[0m \u001b[39mfrom\u001b[39;00m \u001b[39mtypes\u001b[39;00m \u001b[39mimport\u001b[39;00m MethodType\n",
      "\u001b[0;31mModuleNotFoundError\u001b[0m: No module named 'utils'"
     ]
    }
   ],
   "source": [
    "get_model('mplugowl')"
   ]
  },
  {
   "cell_type": "code",
   "execution_count": 1,
   "metadata": {},
   "outputs": [
    {
     "name": "stdout",
     "output_type": "stream",
     "text": [
      "slice(0, 10, None)\n"
     ]
    }
   ],
   "source": [
    "index = slice(0, 10)\n",
    "print(index)"
   ]
  },
  {
   "cell_type": "code",
   "execution_count": null,
   "metadata": {},
   "outputs": [],
   "source": []
  }
 ],
 "metadata": {
  "kernelspec": {
   "display_name": "mplug_owl",
   "language": "python",
   "name": "python3"
  },
  "language_info": {
   "codemirror_mode": {
    "name": "ipython",
    "version": 3
   },
   "file_extension": ".py",
   "mimetype": "text/x-python",
   "name": "python",
   "nbconvert_exporter": "python",
   "pygments_lexer": "ipython3",
   "version": "3.10.12"
  },
  "orig_nbformat": 4
 },
 "nbformat": 4,
 "nbformat_minor": 2
}
